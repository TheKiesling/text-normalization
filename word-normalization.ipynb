{
 "cells": [
  {
   "cell_type": "markdown",
   "id": "04d6f778",
   "metadata": {},
   "source": [
    "# Word Normalization"
   ]
  },
  {
   "cell_type": "markdown",
   "id": "e29053ab",
   "metadata": {},
   "source": [
    "### José Pablo Kiesling Lange"
   ]
  },
  {
   "cell_type": "code",
   "execution_count": 1,
   "id": "27ec017c",
   "metadata": {},
   "outputs": [],
   "source": [
    "import re\n",
    "from collections import Counter\n",
    "from tokenizers import Tokenizer, models, trainers, pre_tokenizers"
   ]
  },
  {
   "cell_type": "code",
   "execution_count": 2,
   "id": "cf80513c",
   "metadata": {},
   "outputs": [],
   "source": [
    "corpus_path = \"data/escher_comments.txt\""
   ]
  },
  {
   "cell_type": "code",
   "execution_count": 3,
   "id": "e6e16c9d",
   "metadata": {},
   "outputs": [],
   "source": [
    "with open(corpus_path, \"r\", encoding=\"utf-8\") as file:\n",
    "    corpus = file.readlines()"
   ]
  },
  {
   "cell_type": "code",
   "execution_count": 4,
   "id": "c4e84622",
   "metadata": {},
   "outputs": [],
   "source": [
    "corpus = [line.strip() for line in corpus if line.strip()]"
   ]
  },
  {
   "cell_type": "markdown",
   "id": "bae86c91",
   "metadata": {},
   "source": [
    "## Estandarización"
   ]
  },
  {
   "cell_type": "markdown",
   "id": "ef7dd89a",
   "metadata": {},
   "source": [
    "Para ver la efectivdad de la estandarización, se mostrará las 10 palabras más frecuentes del corpus antes y después de la estandarización. El objetivo es ver si hay modificación en la cantidad de dichas palabras o si una nueva palabra aparece con frecuencia."
   ]
  },
  {
   "cell_type": "code",
   "execution_count": 5,
   "id": "de3c16d3",
   "metadata": {},
   "outputs": [],
   "source": [
    "def get_most_common_words(corpus, n=10):\n",
    "    words = [word for line in corpus for word in line.split()]\n",
    "    most_common = Counter(words).most_common(n)\n",
    "    return most_common"
   ]
  },
  {
   "cell_type": "code",
   "execution_count": 6,
   "id": "44f920a9",
   "metadata": {},
   "outputs": [
    {
     "data": {
      "text/plain": [
       "[('que', 45),\n",
       " ('de', 39),\n",
       " ('la', 32),\n",
       " ('un', 27),\n",
       " ('una', 26),\n",
       " ('el', 17),\n",
       " ('en', 16),\n",
       " ('esfera', 15),\n",
       " ('reflejo', 15),\n",
       " ('y', 14)]"
      ]
     },
     "execution_count": 6,
     "metadata": {},
     "output_type": "execute_result"
    }
   ],
   "source": [
    "most_common_words = get_most_common_words(corpus, n=10)\n",
    "most_common_words"
   ]
  },
  {
   "cell_type": "markdown",
   "id": "9540c7b7",
   "metadata": {},
   "source": [
    "#### Case Folding"
   ]
  },
  {
   "cell_type": "markdown",
   "id": "76a0e6f8",
   "metadata": {},
   "source": [
    "Se hace una función que dado un corpus revisa si posee la misma palabra en mayúscula y minúscula."
   ]
  },
  {
   "cell_type": "code",
   "execution_count": 7,
   "id": "97bbce70",
   "metadata": {},
   "outputs": [],
   "source": [
    "def get_upper_lower_words(corpus):\n",
    "    words = set(word for line in corpus for word in line.split())\n",
    "    upper_lower_words = set()\n",
    "    for word in words:\n",
    "        if word.lower() in words and word.upper() in words:\n",
    "            upper_lower_words.add(word)\n",
    "    return upper_lower_words"
   ]
  },
  {
   "cell_type": "code",
   "execution_count": 8,
   "id": "47e89453",
   "metadata": {},
   "outputs": [
    {
     "data": {
      "text/plain": [
       "{'A', 'a'}"
      ]
     },
     "execution_count": 8,
     "metadata": {},
     "output_type": "execute_result"
    }
   ],
   "source": [
    "upper_lower_words = get_upper_lower_words(corpus)\n",
    "upper_lower_words"
   ]
  },
  {
   "cell_type": "markdown",
   "id": "c69df04e",
   "metadata": {},
   "source": [
    "Dado que sí hay por lo menos una palabra que aparece en ambas formas, se procede a hacer un case folding (pasar todas las palabras a minúscula)."
   ]
  },
  {
   "cell_type": "code",
   "execution_count": 9,
   "id": "18cce89b",
   "metadata": {},
   "outputs": [],
   "source": [
    "def case_folding(corpus):\n",
    "    return [line.lower() for line in corpus]"
   ]
  },
  {
   "cell_type": "markdown",
   "id": "9fa0588d",
   "metadata": {},
   "source": [
    "#### Remove Punctuation"
   ]
  },
  {
   "cell_type": "markdown",
   "id": "d8259178",
   "metadata": {},
   "source": [
    "Dado que en las instrucciones para generar el corpus se pidió mínimo 2 oraciones, se asume que mínimo una de las oraciones tiene puntuación. Por lo tanto, se procede a eliminar la puntuación del corpus.\n",
    "\n",
    "Esto se hace para evitar que palabras como `la,` o `la.` se cuenten como palabras diferentes a `la`."
   ]
  },
  {
   "cell_type": "code",
   "execution_count": 10,
   "id": "84702dba",
   "metadata": {},
   "outputs": [],
   "source": [
    "def remove_punctuation(corpus):\n",
    "    return [re.sub(r'[^\\w\\s]', '', line) for line in corpus]"
   ]
  },
  {
   "cell_type": "code",
   "execution_count": 11,
   "id": "77dcac30",
   "metadata": {},
   "outputs": [],
   "source": [
    "def standarizate(corpus):\n",
    "    corpus = case_folding(corpus)\n",
    "    corpus = remove_punctuation(corpus)\n",
    "    return corpus"
   ]
  },
  {
   "cell_type": "code",
   "execution_count": 12,
   "id": "ff629776",
   "metadata": {},
   "outputs": [],
   "source": [
    "corpus = standarizate(corpus)"
   ]
  },
  {
   "cell_type": "markdown",
   "id": "ccc1db96",
   "metadata": {},
   "source": [
    "### Corpus ya estandarizado"
   ]
  },
  {
   "cell_type": "code",
   "execution_count": 13,
   "id": "e5800cc8",
   "metadata": {},
   "outputs": [
    {
     "data": {
      "text/plain": [
       "[('que', 45),\n",
       " ('de', 39),\n",
       " ('la', 34),\n",
       " ('un', 30),\n",
       " ('una', 28),\n",
       " ('esfera', 18),\n",
       " ('en', 18),\n",
       " ('el', 17),\n",
       " ('reflejo', 16),\n",
       " ('se', 15)]"
      ]
     },
     "execution_count": 13,
     "metadata": {},
     "output_type": "execute_result"
    }
   ],
   "source": [
    "most_common_words = get_most_common_words(corpus, n=10)\n",
    "most_common_words"
   ]
  },
  {
   "cell_type": "markdown",
   "id": "e4786f53",
   "metadata": {},
   "source": [
    "Como se puede apreciar:\n",
    "- la palabra `la` se incrementó en `2`ocurrencias\n",
    "- la palabra `un` se incrementó en `3` ocurrencias\n",
    "- la palabra `una` se incrementó en `3`ocurrencias\n",
    "- la palabra `esfera` se incrementó en `3` ocurrencias y subió al `6to` lugar\n",
    "- la palabra `en` se incrementó en `2` ocurrencias y subió al `7mo` lugar\n",
    "- la palabra `reflejo` se incrementó en `1` ocurrencia\n",
    "- la palabra `se` **ingresó** al top 10\n",
    "\n",
    "Por lo tanto, la estandarización ha tenido un efecto positivo en la, ya que ha incrementado la cantidad de ocurrencias de palabras comunes y ha eliminado las variaciones causadas por puntuación."
   ]
  },
  {
   "cell_type": "markdown",
   "id": "ddfa525a",
   "metadata": {},
   "source": [
    "Algo a recalcar es la ausencia de la estandarización de palabras con o sin tilde. Esto es porque se entrenará el modelo `BPE` en español."
   ]
  },
  {
   "cell_type": "markdown",
   "id": "298e3c75",
   "metadata": {},
   "source": [
    "## BPE"
   ]
  },
  {
   "cell_type": "markdown",
   "id": "3d8a6b08",
   "metadata": {},
   "source": [
    "La implementación se hará en base a la implementación de `LangformersBlog`\n",
    "\n",
    "https://blog.langformers.com/bpe-tokenizer-explained/"
   ]
  },
  {
   "cell_type": "markdown",
   "id": "ad22c926",
   "metadata": {},
   "source": [
    "En la instanciación del `BpeTrainer` se especifica el tamaño del vocabulario y los tokens especiales. Para definir el tamaño del vocabulario, se debe considerar el tamaño del corpus y la cantidad de palabras que se espera que aparezcan en el corpus. Por lo tanto, se hacen métodos para calcular el tamaño del vocabulario y la cantidad de palabras que se espera que aparezcan en el corpus."
   ]
  },
  {
   "cell_type": "code",
   "execution_count": 14,
   "id": "be419549",
   "metadata": {},
   "outputs": [],
   "source": [
    "def get_vocab_size(corpus):\n",
    "    return len(set(word for line in corpus for word in line.split()))"
   ]
  },
  {
   "cell_type": "code",
   "execution_count": 15,
   "id": "a860d0df",
   "metadata": {},
   "outputs": [
    {
     "name": "stdout",
     "output_type": "stream",
     "text": [
      "Vocabulario estimado por tokens únicos: 229\n"
     ]
    }
   ],
   "source": [
    "vocab_size = get_vocab_size(corpus)\n",
    "print(f\"Vocabulario estimado por tokens únicos: {vocab_size}\")"
   ]
  },
  {
   "cell_type": "markdown",
   "id": "fe87f443",
   "metadata": {},
   "source": [
    "Dado que el corpus es pequeño, se define un tamaño de vocabulario de `300` y los tokens especiales son `[PAD]` y `[UNK]`."
   ]
  },
  {
   "cell_type": "code",
   "execution_count": 16,
   "id": "952f6735",
   "metadata": {},
   "outputs": [],
   "source": [
    "tokenizer = Tokenizer(models.BPE())"
   ]
  },
  {
   "cell_type": "code",
   "execution_count": 17,
   "id": "77714657",
   "metadata": {},
   "outputs": [],
   "source": [
    "trainer = trainers.BpeTrainer(\n",
    "    vocab_size=300,\n",
    "    special_tokens=[\"[PAD]\", \"[UNK]\"]\n",
    ")"
   ]
  },
  {
   "cell_type": "markdown",
   "id": "c2d98402",
   "metadata": {},
   "source": [
    "El token `[PAD]` se utiliza para rellenar secuencias de longitud variable, mientras que el token `[UNK]` se utiliza para representar palabras desconocidas o fuera del vocabulario.\n",
    "\n",
    "Ejemplo:\n",
    "Si el corpus contiene las palabras `hola`, `mundo`, y `adiós`, el vocabulario podría ser:\n",
    "\n",
    "```\n",
    "{\n",
    "    \"[PAD]\": 0,\n",
    "    \"[UNK]\": 1,\n",
    "    \"hola\": 2,\n",
    "    \"mundo\": 3,\n",
    "    \"adiós\": 4\n",
    "}\n",
    "```\n",
    "\n",
    "Entonces si viniera el texto `hello mundo adiós` y otro texto `hola mundo`, el tokenizador lo convertiría a\n",
    "1. [1, 3, 4] (donde `1` es el token `[UNK]` para `hello`)\n",
    "2. [2, 3, 0] (donde `0` es el token `[PAD]` para la secuencia de longitud variable)\n",
    "\n",
    "Es por ello que el uso de ambos tokens es importante para manejar secuencias de longitud variable y palabras desconocidas. En el caso de `PAD` es útil para rellenar secuencias más cortas, mientras que `UNK` es esencial para manejar palabras que no están en el vocabulario.\n",
    "\n",
    "Sin embargo, en el caso de `PAD`, normalmente no aparece en el vocabulario final porque se añade a las secuencias al momento de batching no durante el entrenamiento del tokenizador.\n"
   ]
  },
  {
   "cell_type": "code",
   "execution_count": 18,
   "id": "69c3fa20",
   "metadata": {},
   "outputs": [],
   "source": [
    "tokenizer.train_from_iterator(corpus, trainer)"
   ]
  },
  {
   "cell_type": "code",
   "execution_count": 19,
   "id": "8443edf4",
   "metadata": {},
   "outputs": [
    {
     "name": "stdout",
     "output_type": "stream",
     "text": [
      "Vocabulary: {'pción ': 294, 'oca ': 225, 'dis': 284, 'ación ': 137, 'tiene ': 104, 'pu': 157, 'n': 15, 'sos': 80, ' m': 122, 'ten': 115, 'tur': 230, 'ser': 91, 'observ': 168, 'entor': 241, 'endo ': 117, 'entorno ': 271, 'bles ': 212, 'ación de ': 258, 'que es ': 191, 'f': 8, 'or ': 132, 'sostiene ': 119, 'pin': 185, 'ado ': 211, 'en el ': 196, 'reflejo de ': 144, 'si': 85, 'pue': 259, 's': 20, 'm': 14, 'á ': 131, 'tom': 299, 'representación ': 267, 'se ve ': 121, 'ás ': 116, 'co': 106, 'én ': 232, 'va ': 96, 'istal ': 250, 'el': 287, 'autor ': 263, 'om': 57, 'reflej': 56, 'perspectiva ': 272, 'su ': 93, 'ver ': 204, 've': 95, 'veo ': 120, 'ebles ': 217, 'bros ': 197, 'una esfera ': 86, 'l ': 44, 'ión ': 179, 'una esfera reflect': 199, 'no ': 108, 'espe': 236, 'en ': 58, 'de': 98, 'per': 89, 'es': 37, 'una ': 53, 'bi': 87, 'ce': 277, 'v': 23, 'ar ': 167, 'del ': 114, 'una esfera reflectante ': 210, 'on': 223, 'iendo ': 126, 'is': 83, 'qu': 41, 'pintur': 265, 'de la ': 143, 'reflejo ': 103, 'que mu': 237, 'represent': 190, 'parec': 186, 'an': 55, 'er': 39, 'estr': 188, 'p': 17, 'pi': 226, 'au': 123, 'jet': 221, 'ad': 112, 'ces ': 281, 's ': 90, 'im': 107, 'ti': 65, 'aut': 169, 'tal ': 246, 'mano ': 171, 'fer': 67, 'con': 255, 'de cr': 238, 'una habitación ': 242, 'muebles ': 254, 'sosteniendo ': 172, 'man': 138, 'r ': 295, 'bu': 276, 'al': 77, 'q': 18, 'me ': 181, 'pl': 293, 'entr': 240, 'i': 11, 'ient': 178, 'un hombre ': 92, 'le': 46, 'sí': 128, ' lo que ': 273, 'les ': 180, 'ene ': 102, 'n ': 38, 'd': 6, 'ú': 32, 'rede': 189, 'cr': 213, 'parece ': 208, 'está ': 149, 'tra': 247, 'ur': 129, 'en': 36, 'más ': 139, 'dos': 283, 'in': 100, 'su': 68, 'de ': 43, 'sosten': 145, 'ante ': 136, 'ser ': 253, 'at': 174, 'a que ': 235, 'habita': 135, 'o': 16, 'á': 27, 'reflect': 192, 'esfer': 69, 'y': 25, 'sen': 296, 'observa ': 203, 'ma ': 182, 'un hombre que ': 147, 'se v': 110, 'ta': 70, 'con ': 150, 'ún': 234, 'refleja ': 162, 'como ': 170, 'e ': 33, 'ando ': 161, 'que muestra ': 269, '[PAD]': 0, 'co ': 279, 'as': 274, 'hombre ': 82, 'c': 5, 'or': 62, 'ment': 183, 'spec': 229, 'mo ': 127, 'mente ': 207, ' ': 2, 'ver': 130, 'él ': 233, 'sación de ': 298, 'todo ': 205, 'ismo ': 146, 'í': 29, 'ón ': 60, 'bo': 275, 'dad': 285, 'li': 155, 'so': 140, 'có': 278, 'reflexión ': 193, 'a': 3, 'mu': 101, 'que ': 42, 'x': 24, 'h': 10, 'e': 7, 'lo': 289, 'em': 216, 'na ': 51, 'imag': 201, 'ombre ': 81, 'arec': 175, 'br': 64, 'tr': 75, 'mos ': 184, 'cur': 282, 'los ': 290, 'nos': 291, 'a la ': 109, 'ha': 99, 'alrede': 198, 'mbi': 222, 'iz': 219, 'es un ': 245, 'forma ': 268, 'sí m': 151, 'pe': 94, 'de cristal ': 270, 'pro': 165, 'refle': 49, 'observar ': 262, 'ar': 105, 'r': 19, 'estra ': 266, 'ilu': 288, 'se': 228, 're': 40, 'veo a ': 257, 'ent': 50, 'esfera ': 73, 'tiva ': 164, 'o de ': 72, 'una mano ': 194, 'cen': 280, 'sentimient': 260, 'u': 22, 'ta ': 142, 'pr': 79, 'voca ': 231, 'est': 97, 'en un ': 243, 'ndos': 292, 'j': 12, 'a ': 34, 'ombr': 78, 'b': 4, 'bita': 134, 'to': 141, 'z': 26, 'libros ': 206, 'rec': 160, 'da la ': 215, '[UNK]': 1, 'ant': 118, 'do ': 61, 'obser': 111, 'po': 227, 'for': 218, 'lo ': 84, 'ag': 153, 'al ': 113, 'o ': 35, 'dentr': 286, 'en se ve ': 244, 'propi': 261, 'di': 154, 'y ': 71, 'str': 297, 'os': 45, 'aliz': 249, 'present': 166, 'cu': 176, 'xión ': 187, 'ó': 31, 'el ': 54, 'et': 177, 'sent': 158, 'ci': 59, 'é': 28, 'habitación ': 152, 'imient': 202, 'ob': 88, 'su reflejo ': 200, 'un ': 52, 'g': 9, 'otr': 224, 'jo ': 220, 'fle': 48, 'ción ': 76, 'la esfera ': 239, 'se ': 74, 'sosteniendo una esfera ': 264, 'alg': 248, 'sostiene una esfera ': 256, 'perso': 251, 'perspec': 252, 'ca ': 214, 'l': 13, 'sí mismo ': 173, 'el reflejo de ': 195, 'pec': 148, 'ñ': 30, 'alreded': 209, 'ct': 124, 'com': 125, 'lu': 156, 'os ': 66, 't': 21, 'esent': 159, 'es ': 63, 'lo que ': 133, 'en la ': 163, 'la ': 47}\n"
     ]
    }
   ],
   "source": [
    "print(\"Vocabulary:\", tokenizer.get_vocab())\n",
    "tokenizer.save(\"tiny_tokenizer.json\")"
   ]
  },
  {
   "cell_type": "markdown",
   "id": "4a978df4",
   "metadata": {},
   "source": [
    "## Comparación con WordPiece y SentencePiece"
   ]
  },
  {
   "cell_type": "markdown",
   "id": "6d1de15d",
   "metadata": {},
   "source": [
    "### WordPiece"
   ]
  },
  {
   "cell_type": "code",
   "execution_count": 20,
   "id": "94e3318a",
   "metadata": {},
   "outputs": [],
   "source": [
    "wordPiece_tokenizer = Tokenizer(models.WordPiece(unk_token=\"[UNK]\"))\n",
    "wordPiece_tokenizer.pre_tokenizer = pre_tokenizers.Whitespace()\n",
    "wordPiece_trainer = trainers.WordPieceTrainer(vocab_size=300, special_tokens=[\"[PAD]\", \"[UNK]\"])\n",
    "wordPiece_tokenizer.train_from_iterator(corpus, wordPiece_trainer)"
   ]
  },
  {
   "cell_type": "markdown",
   "id": "3ff86ade",
   "metadata": {},
   "source": [
    "### SentencePiece"
   ]
  },
  {
   "cell_type": "code",
   "execution_count": 21,
   "id": "0f9b82ae",
   "metadata": {},
   "outputs": [],
   "source": [
    "sentencePiece_tokenizer = Tokenizer(models.BPE())\n",
    "sentencePiece_tokenizer.pre_tokenizer = pre_tokenizers.Whitespace()\n",
    "sentencePiece_trainer = trainers.BpeTrainer(vocab_size=300, special_tokens=[\"[PAD]\", \"[UNK]\"])\n",
    "sentencePiece_tokenizer.train_from_iterator(corpus, sentencePiece_trainer)"
   ]
  },
  {
   "cell_type": "code",
   "execution_count": 22,
   "id": "bc42e255",
   "metadata": {},
   "outputs": [
    {
     "name": "stdout",
     "output_type": "stream",
     "text": [
      "Sample text: veo a un hombre explorando\n",
      "BPE Tokenization: ['veo a ', 'un hombre ', 'e', 'x', 'pl', 'or', 'an', 'd', 'o']\n",
      "WordPiece Tokenization: ['veo', 'a', 'un', 'hombre', 'e', '##x', '##p', '##lo', '##ra', '##n', '##do']\n",
      "SentencePiece Tokenization: ['veo', 'a', 'un', 'hombre', 'e', 'x', 'p', 'lo', 'r', 'ando']\n"
     ]
    }
   ],
   "source": [
    "sample = corpus[0][:26]\n",
    "print(\"Sample text:\", sample)\n",
    "print(\"BPE Tokenization:\", tokenizer.encode(sample).tokens)\n",
    "print(\"WordPiece Tokenization:\", wordPiece_tokenizer.encode(sample).tokens)\n",
    "print(\"SentencePiece Tokenization:\", sentencePiece_tokenizer.encode(sample).tokens)"
   ]
  },
  {
   "cell_type": "markdown",
   "id": "301d91a9",
   "metadata": {},
   "source": [
    "Como se puede apreciar, en `BPE` aprende tokens frecuentes como secuencias `('veo a ', 'un hombre ')`. A veces no separa en palabras individuales, sino en fragmentos largos o combinaciones si son frecuentes. Puede incluir espacios dentro de los tokens.\n",
    "\n",
    "Por otro lado, `WordPiece` tiene una peculiaridad y es el uso de `##`para indicar que la subpalabra es parte de una palabra más larga. Además, fragmenta más las palabras conservando la semántica.\n",
    "\n",
    "Finalmente, `SentencePiece` es similar a `BPE` (lo cual hace sentido ya que este modelo usa este algoritmo), pero no utiliza espacios como separadores. Tampoco usa `##`pero puede segmentar de forma más limpias las palabras, ya que no depende de espacios.\n",
    "\n",
    "Por lo que en conclusión, `BPE` y `SentencePiece` son más flexibles en la segmentación de palabras, mientras que `WordPiece` es más estricto y conservador, lo que puede ser útil para modelos que requieren una segmentación más precisa de las palabras.\n"
   ]
  }
 ],
 "metadata": {
  "kernelspec": {
   "display_name": ".venv",
   "language": "python",
   "name": "python3"
  },
  "language_info": {
   "codemirror_mode": {
    "name": "ipython",
    "version": 3
   },
   "file_extension": ".py",
   "mimetype": "text/x-python",
   "name": "python",
   "nbconvert_exporter": "python",
   "pygments_lexer": "ipython3",
   "version": "3.9.0"
  }
 },
 "nbformat": 4,
 "nbformat_minor": 5
}

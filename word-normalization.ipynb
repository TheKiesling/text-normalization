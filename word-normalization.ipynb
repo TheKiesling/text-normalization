{
 "cells": [
  {
   "cell_type": "markdown",
   "id": "04d6f778",
   "metadata": {},
   "source": [
    "# Word Normalization"
   ]
  },
  {
   "cell_type": "markdown",
   "id": "e29053ab",
   "metadata": {},
   "source": [
    "### José Pablo Kiesling Lange"
   ]
  },
  {
   "cell_type": "code",
   "execution_count": 1,
   "id": "27ec017c",
   "metadata": {},
   "outputs": [],
   "source": [
    "import re\n",
    "from collections import Counter\n",
    "from itertools import combinations\n",
    "\n",
    "import numpy as np\n",
    "import seaborn as sns\n",
    "import matplotlib.pyplot as plt\n",
    "\n",
    "from tokenizers import Tokenizer, models, trainers, pre_tokenizers\n",
    "\n",
    "from nltk.stem import SnowballStemmer\n",
    "\n",
    "from Levenshtein import distance"
   ]
  },
  {
   "cell_type": "code",
   "execution_count": 2,
   "id": "cf80513c",
   "metadata": {},
   "outputs": [],
   "source": [
    "corpus_path = \"data/escher_comments.txt\""
   ]
  },
  {
   "cell_type": "code",
   "execution_count": 3,
   "id": "e6e16c9d",
   "metadata": {},
   "outputs": [],
   "source": [
    "with open(corpus_path, \"r\", encoding=\"utf-8\") as file:\n",
    "    corpus = file.readlines()"
   ]
  },
  {
   "cell_type": "code",
   "execution_count": 4,
   "id": "c4e84622",
   "metadata": {},
   "outputs": [],
   "source": [
    "corpus = [line.strip() for line in corpus if line.strip()]"
   ]
  },
  {
   "cell_type": "markdown",
   "id": "bae86c91",
   "metadata": {},
   "source": [
    "## Estandarización"
   ]
  },
  {
   "cell_type": "markdown",
   "id": "ef7dd89a",
   "metadata": {},
   "source": [
    "Para ver la efectivdad de la estandarización, se mostrará las 10 palabras más frecuentes del corpus antes y después de la estandarización. El objetivo es ver si hay modificación en la cantidad de dichas palabras o si una nueva palabra aparece con frecuencia."
   ]
  },
  {
   "cell_type": "code",
   "execution_count": 5,
   "id": "de3c16d3",
   "metadata": {},
   "outputs": [],
   "source": [
    "def get_most_common_words(corpus, n=10):\n",
    "    words = [word for line in corpus for word in line.split()]\n",
    "    most_common = Counter(words).most_common(n)\n",
    "    return most_common"
   ]
  },
  {
   "cell_type": "code",
   "execution_count": 6,
   "id": "44f920a9",
   "metadata": {},
   "outputs": [
    {
     "data": {
      "text/plain": [
       "[('que', 45),\n",
       " ('de', 39),\n",
       " ('la', 32),\n",
       " ('un', 27),\n",
       " ('una', 26),\n",
       " ('el', 17),\n",
       " ('en', 16),\n",
       " ('esfera', 15),\n",
       " ('reflejo', 15),\n",
       " ('y', 14)]"
      ]
     },
     "execution_count": 6,
     "metadata": {},
     "output_type": "execute_result"
    }
   ],
   "source": [
    "most_common_words = get_most_common_words(corpus, n=10)\n",
    "most_common_words"
   ]
  },
  {
   "cell_type": "markdown",
   "id": "9540c7b7",
   "metadata": {},
   "source": [
    "#### Case Folding"
   ]
  },
  {
   "cell_type": "markdown",
   "id": "76a0e6f8",
   "metadata": {},
   "source": [
    "Se hace una función que dado un corpus revisa si posee la misma palabra en mayúscula y minúscula."
   ]
  },
  {
   "cell_type": "code",
   "execution_count": 7,
   "id": "97bbce70",
   "metadata": {},
   "outputs": [],
   "source": [
    "def get_upper_lower_words(corpus):\n",
    "    words = set(word for line in corpus for word in line.split())\n",
    "    upper_lower_words = set()\n",
    "    for word in words:\n",
    "        if word.lower() in words and word.upper() in words:\n",
    "            upper_lower_words.add(word)\n",
    "    return upper_lower_words"
   ]
  },
  {
   "cell_type": "code",
   "execution_count": 8,
   "id": "47e89453",
   "metadata": {},
   "outputs": [
    {
     "data": {
      "text/plain": [
       "{'A', 'a'}"
      ]
     },
     "execution_count": 8,
     "metadata": {},
     "output_type": "execute_result"
    }
   ],
   "source": [
    "upper_lower_words = get_upper_lower_words(corpus)\n",
    "upper_lower_words"
   ]
  },
  {
   "cell_type": "markdown",
   "id": "c69df04e",
   "metadata": {},
   "source": [
    "Dado que sí hay por lo menos una palabra que aparece en ambas formas, se procede a hacer un case folding (pasar todas las palabras a minúscula)."
   ]
  },
  {
   "cell_type": "code",
   "execution_count": 9,
   "id": "18cce89b",
   "metadata": {},
   "outputs": [],
   "source": [
    "def case_folding(corpus):\n",
    "    return [line.lower() for line in corpus]"
   ]
  },
  {
   "cell_type": "markdown",
   "id": "9fa0588d",
   "metadata": {},
   "source": [
    "#### Remove Punctuation"
   ]
  },
  {
   "cell_type": "markdown",
   "id": "d8259178",
   "metadata": {},
   "source": [
    "Dado que en las instrucciones para generar el corpus se pidió mínimo 2 oraciones, se asume que mínimo una de las oraciones tiene puntuación. Por lo tanto, se procede a eliminar la puntuación del corpus.\n",
    "\n",
    "Esto se hace para evitar que palabras como `la,` o `la.` se cuenten como palabras diferentes a `la`."
   ]
  },
  {
   "cell_type": "code",
   "execution_count": 10,
   "id": "84702dba",
   "metadata": {},
   "outputs": [],
   "source": [
    "def remove_punctuation(corpus):\n",
    "    return [re.sub(r'[^\\w\\s]', '', line) for line in corpus]"
   ]
  },
  {
   "cell_type": "code",
   "execution_count": 11,
   "id": "77dcac30",
   "metadata": {},
   "outputs": [],
   "source": [
    "def standarizate(corpus):\n",
    "    corpus = case_folding(corpus)\n",
    "    corpus = remove_punctuation(corpus)\n",
    "    return corpus"
   ]
  },
  {
   "cell_type": "code",
   "execution_count": 12,
   "id": "ff629776",
   "metadata": {},
   "outputs": [],
   "source": [
    "corpus = standarizate(corpus)"
   ]
  },
  {
   "cell_type": "markdown",
   "id": "ccc1db96",
   "metadata": {},
   "source": [
    "### Corpus ya estandarizado"
   ]
  },
  {
   "cell_type": "code",
   "execution_count": 13,
   "id": "e5800cc8",
   "metadata": {},
   "outputs": [
    {
     "data": {
      "text/plain": [
       "[('que', 45),\n",
       " ('de', 39),\n",
       " ('la', 34),\n",
       " ('un', 30),\n",
       " ('una', 28),\n",
       " ('esfera', 18),\n",
       " ('en', 18),\n",
       " ('el', 17),\n",
       " ('reflejo', 16),\n",
       " ('se', 15)]"
      ]
     },
     "execution_count": 13,
     "metadata": {},
     "output_type": "execute_result"
    }
   ],
   "source": [
    "most_common_words = get_most_common_words(corpus, n=10)\n",
    "most_common_words"
   ]
  },
  {
   "cell_type": "markdown",
   "id": "e4786f53",
   "metadata": {},
   "source": [
    "Como se puede apreciar:\n",
    "- la palabra `la` se incrementó en `2`ocurrencias\n",
    "- la palabra `un` se incrementó en `3` ocurrencias\n",
    "- la palabra `una` se incrementó en `3`ocurrencias\n",
    "- la palabra `esfera` se incrementó en `3` ocurrencias y subió al `6to` lugar\n",
    "- la palabra `en` se incrementó en `2` ocurrencias y subió al `7mo` lugar\n",
    "- la palabra `reflejo` se incrementó en `1` ocurrencia\n",
    "- la palabra `se` **ingresó** al top 10\n",
    "\n",
    "Por lo tanto, la estandarización ha tenido un efecto positivo en la, ya que ha incrementado la cantidad de ocurrencias de palabras comunes y ha eliminado las variaciones causadas por puntuación."
   ]
  },
  {
   "cell_type": "markdown",
   "id": "ddfa525a",
   "metadata": {},
   "source": [
    "Algo a recalcar es la ausencia de la estandarización de palabras con o sin tilde. Esto es porque se entrenará el modelo `BPE` en español."
   ]
  },
  {
   "cell_type": "markdown",
   "id": "298e3c75",
   "metadata": {},
   "source": [
    "## BPE"
   ]
  },
  {
   "cell_type": "markdown",
   "id": "3d8a6b08",
   "metadata": {},
   "source": [
    "La implementación se hará en base a la implementación de `LangformersBlog`\n",
    "\n",
    "https://blog.langformers.com/bpe-tokenizer-explained/"
   ]
  },
  {
   "cell_type": "markdown",
   "id": "ad22c926",
   "metadata": {},
   "source": [
    "En la instanciación del `BpeTrainer` se especifica el tamaño del vocabulario y los tokens especiales. Para definir el tamaño del vocabulario, se debe considerar el tamaño del corpus y la cantidad de palabras que se espera que aparezcan en el corpus. Por lo tanto, se hacen métodos para calcular el tamaño del vocabulario y la cantidad de palabras que se espera que aparezcan en el corpus."
   ]
  },
  {
   "cell_type": "code",
   "execution_count": 14,
   "id": "be419549",
   "metadata": {},
   "outputs": [],
   "source": [
    "def get_vocab_size(corpus):\n",
    "    return len(set(word for line in corpus for word in line.split()))"
   ]
  },
  {
   "cell_type": "code",
   "execution_count": 15,
   "id": "a860d0df",
   "metadata": {},
   "outputs": [
    {
     "name": "stdout",
     "output_type": "stream",
     "text": [
      "Vocabulario estimado por tokens únicos: 229\n"
     ]
    }
   ],
   "source": [
    "vocab_size = get_vocab_size(corpus)\n",
    "print(f\"Vocabulario estimado por tokens únicos: {vocab_size}\")"
   ]
  },
  {
   "cell_type": "markdown",
   "id": "fe87f443",
   "metadata": {},
   "source": [
    "Dado que el corpus es pequeño, se define un tamaño de vocabulario de `300` y los tokens especiales son `[PAD]` y `[UNK]`."
   ]
  },
  {
   "cell_type": "code",
   "execution_count": 16,
   "id": "952f6735",
   "metadata": {},
   "outputs": [],
   "source": [
    "tokenizer = Tokenizer(models.BPE())"
   ]
  },
  {
   "cell_type": "code",
   "execution_count": 17,
   "id": "77714657",
   "metadata": {},
   "outputs": [],
   "source": [
    "trainer = trainers.BpeTrainer(\n",
    "    vocab_size=300,\n",
    "    special_tokens=[\"[PAD]\", \"[UNK]\"]\n",
    ")"
   ]
  },
  {
   "cell_type": "markdown",
   "id": "c2d98402",
   "metadata": {},
   "source": [
    "El token `[PAD]` se utiliza para rellenar secuencias de longitud variable, mientras que el token `[UNK]` se utiliza para representar palabras desconocidas o fuera del vocabulario.\n",
    "\n",
    "Ejemplo:\n",
    "Si el corpus contiene las palabras `hola`, `mundo`, y `adiós`, el vocabulario podría ser:\n",
    "\n",
    "```\n",
    "{\n",
    "    \"[PAD]\": 0,\n",
    "    \"[UNK]\": 1,\n",
    "    \"hola\": 2,\n",
    "    \"mundo\": 3,\n",
    "    \"adiós\": 4\n",
    "}\n",
    "```\n",
    "\n",
    "Entonces si viniera el texto `hello mundo adiós` y otro texto `hola mundo`, el tokenizador lo convertiría a\n",
    "1. [1, 3, 4] (donde `1` es el token `[UNK]` para `hello`)\n",
    "2. [2, 3, 0] (donde `0` es el token `[PAD]` para la secuencia de longitud variable)\n",
    "\n",
    "Es por ello que el uso de ambos tokens es importante para manejar secuencias de longitud variable y palabras desconocidas. En el caso de `PAD` es útil para rellenar secuencias más cortas, mientras que `UNK` es esencial para manejar palabras que no están en el vocabulario.\n",
    "\n",
    "Sin embargo, en el caso de `PAD`, normalmente no aparece en el vocabulario final porque se añade a las secuencias al momento de batching no durante el entrenamiento del tokenizador.\n"
   ]
  },
  {
   "cell_type": "code",
   "execution_count": 18,
   "id": "69c3fa20",
   "metadata": {},
   "outputs": [],
   "source": [
    "tokenizer.train_from_iterator(corpus, trainer)"
   ]
  },
  {
   "cell_type": "code",
   "execution_count": 19,
   "id": "8443edf4",
   "metadata": {},
   "outputs": [
    {
     "name": "stdout",
     "output_type": "stream",
     "text": [
      "Vocabulary: {'se v': 110, 'el reflejo de ': 195, 'et': 177, 'parec': 186, 'v': 23, 'cen': 280, 'ta ': 142, 'ene ': 102, 'sí': 128, 'bi': 87, 'dis': 284, 'istal ': 250, 'mbi': 222, 'sí m': 151, 'veo a ': 257, 'su ': 93, 'lu': 156, ' m': 122, 'ilu': 288, 'sentimient': 260, 'or': 62, 'libros ': 206, 'perspec': 252, 'estra ': 266, 'la ': 47, 'ca ': 214, 'x': 24, 'em': 216, 'se ve ': 121, 'aliz': 249, 'va ': 96, 'en se ve ': 244, 'sosteniendo ': 172, 'un hombre ': 92, 'n': 15, 'que ': 42, 'e ': 33, 'el': 287, 'si': 85, 'os ': 66, 'como ': 170, 'bles ': 212, 'as': 274, 'alreded': 209, 'a ': 34, 'ma ': 182, 'is': 83, 'se': 228, 'a': 3, 'ant': 118, 'en la ': 163, 'una habitación ': 242, 'reflej': 56, 'ten': 115, 'xión ': 187, 'al ': 113, 'pue': 259, 'una ': 53, 'á ': 131, 'refleja ': 162, 'esfera ': 73, 's': 20, 'e': 7, 'reflect': 192, 'ser ': 253, 'reflejo ': 103, 'h': 10, 'pintur': 265, 'ación ': 137, 'de ': 43, 'ag': 153, 'su reflejo ': 200, 'r': 19, 'p': 17, 'oca ': 225, 'ver': 130, 'tur': 230, 'obser': 111, 'mano ': 171, 'pción ': 294, 'una esfera reflect': 199, 'er': 39, 'ent': 50, 'u': 22, 'sación de ': 298, 'br': 64, 've': 95, 'fer': 67, 'sen': 296, 'pro': 165, 'de cristal ': 270, 'ón ': 60, 'so': 140, 'm': 14, 'l ': 44, 'en un ': 243, 'str': 297, 'entorno ': 271, 'se ': 74, 'al': 77, 'él ': 233, 'su': 68, 'for': 218, 'na ': 51, 'con ': 150, 'ante ': 136, 'li': 155, 'sent': 158, 'lo': 289, 'j': 12, 'mos ': 184, 'per': 89, 'q': 18, 'da la ': 215, 'com': 125, 'otr': 224, 'co ': 279, 'present': 166, 'a que ': 235, '[PAD]': 0, 'nos': 291, 'pr': 79, 'z': 26, 'arec': 175, 'cur': 282, 'muebles ': 254, 'veo ': 120, 'én ': 232, 'ment': 183, 'observa ': 203, 'esfer': 69, 'r ': 295, 'rede': 189, 'ando ': 161, 'to': 141, 'estr': 188, 'entor': 241, 'ces ': 281, 't': 21, 'ci': 59, 'todo ': 205, 'habitación ': 152, 'sostiene una esfera ': 256, 'tom': 299, 'representación ': 267, 'l': 13, 'é': 28, 'pe': 94, 'jo ': 220, 'de cr': 238, 'voca ': 231, 'ha': 99, 'mente ': 207, 'est': 97, 'hombre ': 82, 'á': 27, 'del ': 114, 'sostiene ': 119, 'y': 25, 'reflejo de ': 144, 'me ': 181, 'parece ': 208, 'lo ': 84, 'ción ': 76, 'espe': 236, 'entr': 240, 'jet': 221, '[UNK]': 1, 'do ': 61, 'ce': 277, 'au': 123, 'ndos': 292, 'refle': 49, 'esent': 159, 'os': 45, 'f': 8, 'man': 138, 'tiene ': 104, 'iz': 219, 'un ': 52, 'no ': 108, 'ta': 70, 'está ': 149, 'ad': 112, 'sosten': 145, 'represent': 190, 'es': 37, 's ': 90, 'pl': 293, 'ebles ': 217, 'propi': 261, 'pu': 157, 'tr': 75, 'ver ': 204, 'd': 6, 'imag': 201, 'que es ': 191, 'ombre ': 81, 'dos': 283, 'spec': 229, 'que muestra ': 269, 'mo ': 127, 'habita': 135, 'y ': 71, 'tiva ': 164, 'perspectiva ': 272, 'qu': 41, 'at': 174, 'más ': 139, 'sosteniendo una esfera ': 264, 'ct': 124, 'ó': 31, 'b': 4, 'sí mismo ': 173, 're': 40, 'ú': 32, 'ser': 91, 'forma ': 268, 'om': 57, 'en ': 58, 'ismo ': 146, 'alg': 248, 'dentr': 286, 'ñ': 30, 'es un ': 245, ' ': 2, 'que mu': 237, 'a la ': 109, 'có': 278, 'or ': 132, 'una esfera reflectante ': 210, 'iendo ': 126, 'í': 29, 'ún': 234, 'bros ': 197, 'observar ': 262, 'o ': 35, 'dad': 285, 'po': 227, 'ado ': 211, 'una mano ': 194, 'es ': 63, 'bu': 276, 'im': 107, 'mu': 101, 'ur': 129, 'n ': 38, 'autor ': 263, 'ient': 178, 'lo que ': 133, 'cu': 176, 'ti': 65, 'un hombre que ': 147, 'ombr': 78, 'el ': 54, 'perso': 251, 'ión ': 179, 'ar': 105, 'ar ': 167, 'i': 11, 'in': 100, 'en el ': 196, 'di': 154, 'cr': 213, 'les ': 180, 'pi': 226, 'pin': 185, 'bo': 275, 'observ': 168, 'en': 36, 'le': 46, 'o': 16, 'pec': 148, 'una esfera ': 86, 'endo ': 117, 'la esfera ': 239, 'o de ': 72, 'an': 55, 'ob': 88, 'tal ': 246, 'sos': 80, 'on': 223, 'de': 98, 'g': 9, 'aut': 169, 'c': 5, 'co': 106, 'tra': 247, 'alrede': 198, 'bita': 134, ' lo que ': 273, 'de la ': 143, 'imient': 202, 'ás ': 116, 'los ': 290, 'reflexión ': 193, 'rec': 160, 'con': 255, 'fle': 48, 'ación de ': 258}\n"
     ]
    }
   ],
   "source": [
    "print(\"Vocabulary:\", tokenizer.get_vocab())\n",
    "tokenizer.save(\"tiny_tokenizer.json\")"
   ]
  },
  {
   "cell_type": "markdown",
   "id": "4a978df4",
   "metadata": {},
   "source": [
    "## Comparación con WordPiece y SentencePiece"
   ]
  },
  {
   "cell_type": "markdown",
   "id": "6d1de15d",
   "metadata": {},
   "source": [
    "### WordPiece"
   ]
  },
  {
   "cell_type": "code",
   "execution_count": 20,
   "id": "94e3318a",
   "metadata": {},
   "outputs": [],
   "source": [
    "wordPiece_tokenizer = Tokenizer(models.WordPiece(unk_token=\"[UNK]\"))\n",
    "wordPiece_tokenizer.pre_tokenizer = pre_tokenizers.Whitespace()\n",
    "wordPiece_trainer = trainers.WordPieceTrainer(vocab_size=300, special_tokens=[\"[PAD]\", \"[UNK]\"])\n",
    "wordPiece_tokenizer.train_from_iterator(corpus, wordPiece_trainer)"
   ]
  },
  {
   "cell_type": "markdown",
   "id": "3ff86ade",
   "metadata": {},
   "source": [
    "### SentencePiece"
   ]
  },
  {
   "cell_type": "code",
   "execution_count": 21,
   "id": "0f9b82ae",
   "metadata": {},
   "outputs": [],
   "source": [
    "sentencePiece_tokenizer = Tokenizer(models.BPE())\n",
    "sentencePiece_tokenizer.pre_tokenizer = pre_tokenizers.Whitespace()\n",
    "sentencePiece_trainer = trainers.BpeTrainer(vocab_size=300, special_tokens=[\"[PAD]\", \"[UNK]\"])\n",
    "sentencePiece_tokenizer.train_from_iterator(corpus, sentencePiece_trainer)"
   ]
  },
  {
   "cell_type": "code",
   "execution_count": 22,
   "id": "ff92094d",
   "metadata": {},
   "outputs": [],
   "source": [
    "sample = corpus[0][:60]"
   ]
  },
  {
   "cell_type": "code",
   "execution_count": 23,
   "id": "bc42e255",
   "metadata": {},
   "outputs": [
    {
     "name": "stdout",
     "output_type": "stream",
     "text": [
      "Sample text: veo a un hombre explorando su propia percepción al sostener \n",
      "BPE Tokenization: ['veo a ', 'un hombre ', 'e', 'x', 'pl', 'or', 'ando ', 'su ', 'propi', 'a ', 'per', 'ce', 'pción ', 'al ', 'sosten', 'er', ' ']\n",
      "WordPiece Tokenization: ['veo', 'a', 'un', 'hombre', 'e', '##x', '##p', '##lo', '##ra', '##n', '##do', 'su', 'propi', '##a', 'per', '##ce', '##pción', 'al', 'sosten', '##er']\n",
      "SentencePiece Tokenization: ['veo', 'a', 'un', 'hombre', 'e', 'x', 'p', 'lo', 'r', 'ando', 'su', 'propia', 'percepción', 'al', 'sosten', 'er']\n"
     ]
    }
   ],
   "source": [
    "print(\"Sample text:\", sample)\n",
    "print(\"BPE Tokenization:\", tokenizer.encode(sample).tokens)\n",
    "print(\"WordPiece Tokenization:\", wordPiece_tokenizer.encode(sample).tokens)\n",
    "print(\"SentencePiece Tokenization:\", sentencePiece_tokenizer.encode(sample).tokens)"
   ]
  },
  {
   "cell_type": "markdown",
   "id": "301d91a9",
   "metadata": {},
   "source": [
    "Como se puede apreciar, en `BPE` aprende tokens frecuentes como secuencias `('veo a ', 'un hombre ')`. A veces no separa en palabras individuales, sino en fragmentos largos o combinaciones si son frecuentes. Puede incluir espacios dentro de los tokens.\n",
    "\n",
    "Por otro lado, `WordPiece` tiene una peculiaridad y es el uso de `##`para indicar que la subpalabra es parte de una palabra más larga. Además, fragmenta más las palabras conservando la semántica.\n",
    "\n",
    "Finalmente, `SentencePiece` es similar a `BPE` (lo cual hace sentido ya que este modelo usa este algoritmo), pero no utiliza espacios como separadores. Tampoco usa `##`pero puede segmentar de forma más limpias las palabras, ya que no depende de espacios.\n",
    "\n",
    "Por lo que en conclusión, `BPE` y `SentencePiece` son más flexibles en la segmentación de palabras, mientras que `WordPiece` es más estricto y conservador, lo que puede ser útil para modelos que requieren una segmentación más precisa de las palabras.\n"
   ]
  },
  {
   "cell_type": "markdown",
   "id": "5fa46826",
   "metadata": {},
   "source": [
    "## Snowball Stemmer"
   ]
  },
  {
   "cell_type": "code",
   "execution_count": 24,
   "id": "57985740",
   "metadata": {},
   "outputs": [],
   "source": [
    "stemmer = SnowballStemmer(\"spanish\")"
   ]
  },
  {
   "cell_type": "code",
   "execution_count": 25,
   "id": "24d7ea7a",
   "metadata": {},
   "outputs": [],
   "source": [
    "sample_stemmed = \"\""
   ]
  },
  {
   "cell_type": "code",
   "execution_count": 26,
   "id": "ca618c58",
   "metadata": {},
   "outputs": [],
   "source": [
    "words = sample.split()"
   ]
  },
  {
   "cell_type": "code",
   "execution_count": 27,
   "id": "378da229",
   "metadata": {},
   "outputs": [
    {
     "name": "stdout",
     "output_type": "stream",
     "text": [
      "Original: veo, Stemmed: veo\n",
      "Original: a, Stemmed: a\n",
      "Original: un, Stemmed: un\n",
      "Original: hombre, Stemmed: hombr\n",
      "Original: explorando, Stemmed: explor\n",
      "Original: su, Stemmed: su\n",
      "Original: propia, Stemmed: propi\n",
      "Original: percepción, Stemmed: percepcion\n",
      "Original: al, Stemmed: al\n",
      "Original: sostener, Stemmed: sosten\n",
      "\n",
      "Sample stemmed: veo a un hombr explor su propi percepcion al sosten\n"
     ]
    }
   ],
   "source": [
    "for token in words:\n",
    "    sample_stemmed += stemmer.stem(token) + \" \"\n",
    "    print(f\"Original: {token}, Stemmed: {stemmer.stem(token)}\")\n",
    "    \n",
    "print(\"\\nSample stemmed:\", sample_stemmed.strip())"
   ]
  },
  {
   "cell_type": "markdown",
   "id": "53351146",
   "metadata": {},
   "source": [
    "Al hacer el stemming, se puede apreciar que verbos mantienen su raíz para que se pueda entender su lema. Por ejemplo, la subpalabra `explorando` se convierte en `explor`, la cual puede tener diferentes conjugaciones, y se sigue entendiendo como `explorar`.\n",
    "Sin embargo, en el caso de sustantivos, se pierde la relación semántica original. Por ejemplo, la subpalabra `hombr` se puede entender como `hombre` u `hombro`. Esto se debe a que el algoritmo de stemming utilizado no tiene en cuenta el contexto de la palabra, por lo que puede generar raíces ambiguas.\n",
    "\n",
    "Además, la subpalabra `percepción`se le remueve la tilde y se convierte en `percepcion`. Lo cual puede ser problemático, ya que en español la tilde es importante para la correcta pronunciación y significado de las palabras. Por lo tanto, al hacer el stemming, se pierde información importante sobre la palabra.\n",
    "\n",
    "Por lo tanto, el stemming es útil para reducir las palabras a su raíz, pero puede generar raíces ambiguas y perder información importante sobre la palabra. En este caso, se recomienda utilizar lematización en lugar de stemming para preservar la relación semántica original de las palabras."
   ]
  },
  {
   "cell_type": "markdown",
   "id": "59794e3c",
   "metadata": {},
   "source": [
    "## Levenshtein"
   ]
  },
  {
   "cell_type": "code",
   "execution_count": 28,
   "id": "919cb840",
   "metadata": {},
   "outputs": [],
   "source": [
    "import pandas as pd\n",
    "from sklearn.cluster import AgglomerativeClustering"
   ]
  },
  {
   "cell_type": "code",
   "execution_count": 29,
   "id": "a9f47077",
   "metadata": {},
   "outputs": [],
   "source": [
    "n = len(corpus)\n",
    "matriz = np.zeros((n, n))\n",
    "for i in range(n):\n",
    "    for j in range(n):\n",
    "        if i != j:\n",
    "            matriz[i][j] = distance(corpus[i], corpus[j])"
   ]
  },
  {
   "cell_type": "code",
   "execution_count": 30,
   "id": "78dd27cc",
   "metadata": {},
   "outputs": [
    {
     "data": {
      "image/png": "[encoded data removed]",
      "text/plain": [
       "<Figure size 640x480 with 2 Axes>"
      ]
     },
     "metadata": {},
     "output_type": "display_data"
    }
   ],
   "source": [
    "sns.heatmap(matriz)\n",
    "plt.title(\"Matriz de distancia de edición (Levenshtein)\")\n",
    "plt.show()"
   ]
  },
  {
   "cell_type": "markdown",
   "id": "2c465168",
   "metadata": {},
   "source": [
    "Para determinar el número óptimo de clusters, se utiliza el método del codo. Este método consiste en calcular la suma de las distancias dentro de cada cluster para diferentes valores de `k` y graficar el resultado. El valor óptimo de `k` es aquel donde la disminución de la suma de distancias comienza a ser menos pronunciada."
   ]
  },
  {
   "cell_type": "code",
   "execution_count": 31,
   "id": "c5d3a8e1",
   "metadata": {},
   "outputs": [],
   "source": [
    "def intra_cluster_sum(dist_matrix, labels):\n",
    "    total = 0.0\n",
    "    for c in np.unique(labels):\n",
    "        idx = np.where(labels == c)[0]\n",
    "        if len(idx) > 1:\n",
    "            total += sum(dist_matrix[i, j] for i, j in combinations(idx, 2))\n",
    "    return total"
   ]
  },
  {
   "cell_type": "code",
   "execution_count": 32,
   "id": "9d98b43c",
   "metadata": {},
   "outputs": [
    {
     "name": "stderr",
     "output_type": "stream",
     "text": [
      "c:\\Users\\TheKi\\OneDrive - UVG\\Semestre X\\Procesamiento de Lenguaje Natural\\text-normalization\\.venv\\lib\\site-packages\\sklearn\\cluster\\_agglomerative.py:588: ClusterWarning: The symmetric non-negative hollow observation matrix looks suspiciously like an uncondensed distance matrix\n",
      "  out = hierarchy.linkage(X, method=linkage, metric=affinity)\n",
      "c:\\Users\\TheKi\\OneDrive - UVG\\Semestre X\\Procesamiento de Lenguaje Natural\\text-normalization\\.venv\\lib\\site-packages\\sklearn\\cluster\\_agglomerative.py:588: ClusterWarning: The symmetric non-negative hollow observation matrix looks suspiciously like an uncondensed distance matrix\n",
      "  out = hierarchy.linkage(X, method=linkage, metric=affinity)\n",
      "c:\\Users\\TheKi\\OneDrive - UVG\\Semestre X\\Procesamiento de Lenguaje Natural\\text-normalization\\.venv\\lib\\site-packages\\sklearn\\cluster\\_agglomerative.py:588: ClusterWarning: The symmetric non-negative hollow observation matrix looks suspiciously like an uncondensed distance matrix\n",
      "  out = hierarchy.linkage(X, method=linkage, metric=affinity)\n",
      "c:\\Users\\TheKi\\OneDrive - UVG\\Semestre X\\Procesamiento de Lenguaje Natural\\text-normalization\\.venv\\lib\\site-packages\\sklearn\\cluster\\_agglomerative.py:588: ClusterWarning: The symmetric non-negative hollow observation matrix looks suspiciously like an uncondensed distance matrix\n",
      "  out = hierarchy.linkage(X, method=linkage, metric=affinity)\n",
      "c:\\Users\\TheKi\\OneDrive - UVG\\Semestre X\\Procesamiento de Lenguaje Natural\\text-normalization\\.venv\\lib\\site-packages\\sklearn\\cluster\\_agglomerative.py:588: ClusterWarning: The symmetric non-negative hollow observation matrix looks suspiciously like an uncondensed distance matrix\n",
      "  out = hierarchy.linkage(X, method=linkage, metric=affinity)\n",
      "c:\\Users\\TheKi\\OneDrive - UVG\\Semestre X\\Procesamiento de Lenguaje Natural\\text-normalization\\.venv\\lib\\site-packages\\sklearn\\cluster\\_agglomerative.py:588: ClusterWarning: The symmetric non-negative hollow observation matrix looks suspiciously like an uncondensed distance matrix\n",
      "  out = hierarchy.linkage(X, method=linkage, metric=affinity)\n",
      "c:\\Users\\TheKi\\OneDrive - UVG\\Semestre X\\Procesamiento de Lenguaje Natural\\text-normalization\\.venv\\lib\\site-packages\\sklearn\\cluster\\_agglomerative.py:588: ClusterWarning: The symmetric non-negative hollow observation matrix looks suspiciously like an uncondensed distance matrix\n",
      "  out = hierarchy.linkage(X, method=linkage, metric=affinity)\n",
      "c:\\Users\\TheKi\\OneDrive - UVG\\Semestre X\\Procesamiento de Lenguaje Natural\\text-normalization\\.venv\\lib\\site-packages\\sklearn\\cluster\\_agglomerative.py:588: ClusterWarning: The symmetric non-negative hollow observation matrix looks suspiciously like an uncondensed distance matrix\n",
      "  out = hierarchy.linkage(X, method=linkage, metric=affinity)\n",
      "c:\\Users\\TheKi\\OneDrive - UVG\\Semestre X\\Procesamiento de Lenguaje Natural\\text-normalization\\.venv\\lib\\site-packages\\sklearn\\cluster\\_agglomerative.py:588: ClusterWarning: The symmetric non-negative hollow observation matrix looks suspiciously like an uncondensed distance matrix\n",
      "  out = hierarchy.linkage(X, method=linkage, metric=affinity)\n",
      "c:\\Users\\TheKi\\OneDrive - UVG\\Semestre X\\Procesamiento de Lenguaje Natural\\text-normalization\\.venv\\lib\\site-packages\\sklearn\\cluster\\_agglomerative.py:588: ClusterWarning: The symmetric non-negative hollow observation matrix looks suspiciously like an uncondensed distance matrix\n",
      "  out = hierarchy.linkage(X, method=linkage, metric=affinity)\n",
      "c:\\Users\\TheKi\\OneDrive - UVG\\Semestre X\\Procesamiento de Lenguaje Natural\\text-normalization\\.venv\\lib\\site-packages\\sklearn\\cluster\\_agglomerative.py:588: ClusterWarning: The symmetric non-negative hollow observation matrix looks suspiciously like an uncondensed distance matrix\n",
      "  out = hierarchy.linkage(X, method=linkage, metric=affinity)\n",
      "c:\\Users\\TheKi\\OneDrive - UVG\\Semestre X\\Procesamiento de Lenguaje Natural\\text-normalization\\.venv\\lib\\site-packages\\sklearn\\cluster\\_agglomerative.py:588: ClusterWarning: The symmetric non-negative hollow observation matrix looks suspiciously like an uncondensed distance matrix\n",
      "  out = hierarchy.linkage(X, method=linkage, metric=affinity)\n",
      "c:\\Users\\TheKi\\OneDrive - UVG\\Semestre X\\Procesamiento de Lenguaje Natural\\text-normalization\\.venv\\lib\\site-packages\\sklearn\\cluster\\_agglomerative.py:588: ClusterWarning: The symmetric non-negative hollow observation matrix looks suspiciously like an uncondensed distance matrix\n",
      "  out = hierarchy.linkage(X, method=linkage, metric=affinity)\n",
      "c:\\Users\\TheKi\\OneDrive - UVG\\Semestre X\\Procesamiento de Lenguaje Natural\\text-normalization\\.venv\\lib\\site-packages\\sklearn\\cluster\\_agglomerative.py:588: ClusterWarning: The symmetric non-negative hollow observation matrix looks suspiciously like an uncondensed distance matrix\n",
      "  out = hierarchy.linkage(X, method=linkage, metric=affinity)\n",
      "c:\\Users\\TheKi\\OneDrive - UVG\\Semestre X\\Procesamiento de Lenguaje Natural\\text-normalization\\.venv\\lib\\site-packages\\sklearn\\cluster\\_agglomerative.py:588: ClusterWarning: The symmetric non-negative hollow observation matrix looks suspiciously like an uncondensed distance matrix\n",
      "  out = hierarchy.linkage(X, method=linkage, metric=affinity)\n",
      "c:\\Users\\TheKi\\OneDrive - UVG\\Semestre X\\Procesamiento de Lenguaje Natural\\text-normalization\\.venv\\lib\\site-packages\\sklearn\\cluster\\_agglomerative.py:588: ClusterWarning: The symmetric non-negative hollow observation matrix looks suspiciously like an uncondensed distance matrix\n",
      "  out = hierarchy.linkage(X, method=linkage, metric=affinity)\n",
      "c:\\Users\\TheKi\\OneDrive - UVG\\Semestre X\\Procesamiento de Lenguaje Natural\\text-normalization\\.venv\\lib\\site-packages\\sklearn\\cluster\\_agglomerative.py:588: ClusterWarning: The symmetric non-negative hollow observation matrix looks suspiciously like an uncondensed distance matrix\n",
      "  out = hierarchy.linkage(X, method=linkage, metric=affinity)\n",
      "c:\\Users\\TheKi\\OneDrive - UVG\\Semestre X\\Procesamiento de Lenguaje Natural\\text-normalization\\.venv\\lib\\site-packages\\sklearn\\cluster\\_agglomerative.py:588: ClusterWarning: The symmetric non-negative hollow observation matrix looks suspiciously like an uncondensed distance matrix\n",
      "  out = hierarchy.linkage(X, method=linkage, metric=affinity)\n",
      "c:\\Users\\TheKi\\OneDrive - UVG\\Semestre X\\Procesamiento de Lenguaje Natural\\text-normalization\\.venv\\lib\\site-packages\\sklearn\\cluster\\_agglomerative.py:588: ClusterWarning: The symmetric non-negative hollow observation matrix looks suspiciously like an uncondensed distance matrix\n",
      "  out = hierarchy.linkage(X, method=linkage, metric=affinity)\n"
     ]
    }
   ],
   "source": [
    "Ks = range(2, 21)\n",
    "wcss = [] \n",
    "\n",
    "for k in Ks:\n",
    "    model = AgglomerativeClustering(\n",
    "        n_clusters=k,\n",
    "        linkage=\"average\"\n",
    "    )\n",
    "    labels = model.fit_predict(matriz)\n",
    "    wcss.append(intra_cluster_sum(matriz, labels))"
   ]
  },
  {
   "cell_type": "code",
   "execution_count": 33,
   "id": "97b99032",
   "metadata": {},
   "outputs": [
    {
     "data": {
      "image/png": "[encoded data removed]",
      "text/plain": [
       "<Figure size 640x480 with 1 Axes>"
      ]
     },
     "metadata": {},
     "output_type": "display_data"
    }
   ],
   "source": [
    "plt.plot(Ks, wcss, marker=\"o\")\n",
    "plt.title(\"Método del codo (distancia de Levenshtein)\")\n",
    "plt.xlabel(\"Número de clusters k\")\n",
    "plt.ylabel(\"Suma de distancias intra-cluster\")\n",
    "plt.show()\n"
   ]
  },
  {
   "cell_type": "markdown",
   "id": "be20d257",
   "metadata": {},
   "source": [
    "como se puede apreciar, el valor óptimo de `k` es `9`, ya que a partir de ese valor la disminución de la suma de distancias comienza a ser menos pronunciada. Por lo tanto, se puede concluir que el número óptimo de clusters es `9`."
   ]
  },
  {
   "cell_type": "code",
   "execution_count": 34,
   "id": "f7af05cb",
   "metadata": {},
   "outputs": [],
   "source": [
    "k_opt = 9"
   ]
  },
  {
   "cell_type": "code",
   "execution_count": 35,
   "id": "49e93883",
   "metadata": {},
   "outputs": [
    {
     "name": "stderr",
     "output_type": "stream",
     "text": [
      "c:\\Users\\TheKi\\OneDrive - UVG\\Semestre X\\Procesamiento de Lenguaje Natural\\text-normalization\\.venv\\lib\\site-packages\\sklearn\\cluster\\_agglomerative.py:588: ClusterWarning: The symmetric non-negative hollow observation matrix looks suspiciously like an uncondensed distance matrix\n",
      "  out = hierarchy.linkage(X, method=linkage, metric=affinity)\n"
     ]
    }
   ],
   "source": [
    "model = AgglomerativeClustering(\n",
    "    n_clusters=k_opt,\n",
    "    linkage=\"average\"\n",
    ")\n",
    "labels = model.fit_predict(matriz)"
   ]
  },
  {
   "cell_type": "code",
   "execution_count": 36,
   "id": "58f2d141",
   "metadata": {},
   "outputs": [],
   "source": [
    "clusters = {c: [] for c in range(k_opt)}\n",
    "for idx, label in enumerate(labels):\n",
    "    clusters[label].append(corpus[idx])"
   ]
  },
  {
   "cell_type": "code",
   "execution_count": 37,
   "id": "58f78a87",
   "metadata": {},
   "outputs": [
    {
     "name": "stdout",
     "output_type": "stream",
     "text": [
      "\n",
      "🔸 Cluster 0  (tamaño = 11)\n",
      "   • veo a un hombre explorando su propia percepción al sostener la esfera no solo contempla su reflejo sino que atrapa todo su entorno en un instante de autorreflexión y asombro\n",
      "   • mediante una esfera se refleja la escena y a un hombre que se observa así mismo en el espejo con una sensación de reflexión sobre sí mismo y su alrededor\n",
      "   • observo un nombre que sostiene una esfera en la que puede ver su reflejo y el del entorno me evoca un sentimiento de introspección y reflexión personal\n",
      "   • me da la sensación de que es la representación del sentimiento de realization es el sentimiento que me provoca muchas veces el reflejo va más allá\n",
      "   • veo un entendimiento de perspectiva reflejo y representación de la luz a nivel más analítico veo a un hombre observándose a sí mismo analizando el reflejo de su persona\n",
      "   • un hombre sosteniendo una bola de cristal que lo refleja a él mismo en otro entorno actuando como un espejo o un túnel que muestra lo que él está visualizando\n",
      "   • se ve un señor en un estudio sosteniendo una esfera pulida la cual refleja toda la luz de la escena\n",
      "   • veo una mano sosteniendo una esfera que muestra el reflejo del hombre que la sostiene dentro de una habitación como especie de sala\n",
      "   • un hombre que sostiene una esfera de cristal la esfera refleja todo el contenido de la habitación\n",
      "   • una ilustración de un hombre que sostiene una pelota que refleja su propia imagen\n",
      "   • es un hombre que toma con sus manos una esfera reflectante y con ello se ve su reflejo y su alrededor\n",
      "\n",
      "🔸 Cluster 1  (tamaño = 3)\n",
      "   • veo el reflejo de un hombre que sostiene una esfera reflectante entonces podemos observar su habitación con libros muebles etc se ve la distorsión que provoca el efecto\n",
      "   • en la imagen se ve una mano sosteniendo una esfera reflectante que muestra el reflejo de una habitación y un hombre sentado que parece ser el propio artista que observa directamente al espectador\n",
      "   • veo al autor de la pintura verse reflejado en una esfera donde podemos observar cómo está ordenada la habitación puedo ver que tiene varios libros algunos muebles y una ventana\n",
      "\n",
      "🔸 Cluster 2  (tamaño = 1)\n",
      "   • un autoretrato de forma creativa ya que no es un simple dibujo del autor sino que es el reflejo de él me agrada que tome en cuenta los detalles tanto del reflejo como de la mano que sujeta la esfera\n",
      "\n",
      "🔸 Cluster 3  (tamaño = 1)\n",
      "   • prácticamente es un reflejo de sí mismo es decir la persona que sostiene la esfera siempre se va a terminar viendo a sí misma sea la perspectiva que sea si bien se ve más grande o más pequeño siempre se ve a sí mismo además está solo en el cuarto lo que podría reflejar algún momento de instrospección incluyendo que está en un cuarto de lo que parece ser lectura\n",
      "\n",
      "🔸 Cluster 4  (tamaño = 1)\n",
      "   • en la imagen se ve una mano sosteniendo una esfera que refleja todo lo que hay alrededor dentro del reflejo aparece un hombre sentado que parece estar viendo hacia quien observa la imagen también se puede ver una habitación con libros muebles y una ventana todo se ve algo curvado\n",
      "\n",
      "🔸 Cluster 5  (tamaño = 1)\n",
      "   • veo a un hombre que observa su reflejo a través de una esfera percibo que es como un auto reflejo más allá de lo superficial y ver más adentro de nosotros también siento que es la forma de observar nuestro alrededor nosotros estando en el y lo que contribuimos al ambiente\n",
      "\n",
      "🔸 Cluster 6  (tamaño = 1)\n",
      "   • veo al autor reflejándose atreves de un bola de cristal es un anciano con pintas de ser muy sabio la habitación es como el estudio de un psicólogo porque tiene muchos libros y un sillón como en el que suelen atender a la gente\n",
      "\n",
      "🔸 Cluster 7  (tamaño = 1)\n",
      "   • vemos una mano en la que se sostiene una esfera de un material reflejante dando la ilusión de que lo único presenta en la esfera está detrás pero la percepción es muy subjetiva los objetos se ven distorsionados por la naturaleza de la forma del objeto pero probablemente no estén así una pintura que invita a la reflexión de si lo que vemos es en verdad lo que está ahí\n",
      "\n",
      "🔸 Cluster 8  (tamaño = 1)\n",
      "   • se trata de la representación del reflejo de un hombre en una esfera reflectante que este sostiene desde su punto de vista causa cierta curiosidad el ver una perspectiva que no es comúnmente representada en pinturas\n"
     ]
    }
   ],
   "source": [
    "for c, frases in clusters.items():\n",
    "    print(f\"\\n🔸 Cluster {c}  (tamaño = {len(frases)})\")\n",
    "    for frase in frases:\n",
    "        print(\"   •\", frase)"
   ]
  },
  {
   "cell_type": "markdown",
   "id": "5b79ecbd",
   "metadata": {},
   "source": [
    "Como se puede apreciar, el `Cluster 0` es el más grande (con `11` frases) y representa una visión común, literal y reflexiva de la pintura (`un hombre que sostiene una esfera reflectante donde se observa a sí mismo y su entorno`).\n",
    "\n",
    "Por otro lado, el `Cluster 1`, con `3` frases, complementa esta visión al describir elementos más detallados del entorno físico (libros, muebles, ventana), y el efecto visual causado por la distorsión de la esfera.\n",
    "\n",
    "Los demás `Clústeres (2 al 8)`, de solo una frase cada uno, representan explicaciones más subjetivas. Estos clústeres amplían el análisis al mostrar la varios enfoques dentro del corpus, diferenciándose del grupo central tanto por estilo como por contenido."
   ]
  }
 ],
 "metadata": {
  "kernelspec": {
   "display_name": ".venv",
   "language": "python",
   "name": "python3"
  },
  "language_info": {
   "codemirror_mode": {
    "name": "ipython",
    "version": 3
   },
   "file_extension": ".py",
   "mimetype": "text/x-python",
   "name": "python",
   "nbconvert_exporter": "python",
   "pygments_lexer": "ipython3",
   "version": "3.9.0"
  }
 },
 "nbformat": 4,
 "nbformat_minor": 5
}
